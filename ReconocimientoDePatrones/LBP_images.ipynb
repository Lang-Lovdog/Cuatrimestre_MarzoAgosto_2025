{
 "cells": [
  {
   "cell_type": "markdown",
   "id": "1cb2abb6",
   "metadata": {},
   "source": [
    "Tarea 2: Cálculo de características en imágenes Local Binary Pattern\n",
    "Utiliza una ventana de 3x3 para calcular las imágenes LBP de las cuatro categorías de fallas de cerámicos compartidas. \n",
    "\n",
    "Calcular las características estadísticas; media, varianza, correlación, contraste, homogeneidad, para 12 diferentes tamaños de ventana comenzando por tamaño 3,5.7,...,25. Usa cada tamaño de ventana para realizar el calculo de la característica y el valor por cada ventana se colocara en una imagen nueva que contendrá la característica calculada para toda la imagen LBP. Por ejemplo: suponga que la imagen original del cerámico es de 200x200 pixeles, entonces la imagen LBP tendrá un tamaño final de 199x199 y al calcular las características para una ventana de 5x5, la característica de media de la imagen LBP, será de 197x197, porque al ir recorriendo la ventana sobre la imagen LBP esta perderá las ultimas dos columnas y renglones.\n",
    "\n",
    "Entregables: Anexa el código que lee cada una de las imágenes, genera las imágenes LBP y calcula las características solicitadas. Acomodar las imágenes de características en un solo archivo .csv, no olvides hacer una sola columna, cada una de las imágenes características.   "
   ]
  },
  {
   "cell_type": "code",
   "execution_count": 18,
   "id": "1d6a4688",
   "metadata": {},
   "outputs": [],
   "source": [
    "import numpy as np\n",
    "import pandas as pd\n",
    "import cv2\n",
    "import imageio as io \n",
    "import seaborn as sns\n",
    "import os \n",
    "from skimage.feature import local_binary_pattern\n",
    "from skimage.feature import graycomatrix, graycoprops\n",
    "from tqdm import tqdm"
   ]
  },
  {
   "cell_type": "code",
   "execution_count": 19,
   "id": "d0ee1acd",
   "metadata": {},
   "outputs": [],
   "source": [
    "#parametros lbp \n",
    "radio = 1\n",
    "n_puntos = 8*radio\n",
    "METHOD  = 'uniform'\n",
    "tam_ventana = [3,5,7,9,11,13,15,17,19,21,23,25] #3x3\n",
    "#tam_ventana = [3,5] #3x3\n",
    "#len(tam_ventana)\n"
   ]
  },
  {
   "cell_type": "code",
   "execution_count": 20,
   "id": "ba6e4a04",
   "metadata": {},
   "outputs": [],
   "source": [
    "def calc_lbp(img_gray):\n",
    "    return local_binary_pattern(img_gray, n_puntos, radio, METHOD).astype(np.uint8)\n",
    "\n",
    "def extraer_caracteristicas(lbp_img, tam_vent):\n",
    "    pad = tam_vent // 2\n",
    "    h, w = lbp_img.shape\n",
    "    resultado = []\n",
    "\n",
    "    for y in range(pad, h - pad):\n",
    "        for x in range(pad, w - pad):\n",
    "            ventana = lbp_img[y - pad: y + pad + 1, x - pad: x + pad + 1]\n",
    "            media = np.mean(ventana)\n",
    "            var = np.var(ventana)\n",
    "            glcm = graycomatrix(ventana, [1], [0], levels=59, symmetric=True, normed=True)\n",
    "            correlacion = graycoprops(glcm, 'correlation')[0, 0]\n",
    "            contraste = graycoprops(glcm, 'contrast')[0, 0]\n",
    "            homogeneidad = graycoprops(glcm, 'homogeneity')[0, 0]\n",
    "\n",
    "            resultado.append({\n",
    "                'media': media,\n",
    "                'varianza': var,\n",
    "                'correlacion': correlacion,\n",
    "                'contraste': contraste,\n",
    "                'homogeneidad': homogeneidad\n",
    "            })\n",
    "    return resultado\n",
    "\n",
    "            "
   ]
  },
  {
   "cell_type": "code",
   "execution_count": 21,
   "id": "975bd7dd",
   "metadata": {},
   "outputs": [
    {
     "name": "stderr",
     "output_type": "stream",
     "text": [
      "0it [00:00, ?it/s]\n",
      "0it [00:00, ?it/s]\n",
      "100%|██████████| 10/10 [00:15<00:00,  1.59s/it]\n",
      "100%|██████████| 10/10 [00:15<00:00,  1.58s/it]\n",
      "100%|██████████| 10/10 [00:15<00:00,  1.58s/it]\n",
      "100%|██████████| 10/10 [00:15<00:00,  1.58s/it]\n",
      "100%|██████████| 10/10 [00:15<00:00,  1.58s/it]\n",
      "100%|██████████| 10/10 [00:15<00:00,  1.58s/it]\n",
      "100%|██████████| 10/10 [00:15<00:00,  1.59s/it]\n",
      "100%|██████████| 10/10 [00:15<00:00,  1.58s/it]\n",
      "100%|██████████| 10/10 [00:15<00:00,  1.58s/it]\n",
      "100%|██████████| 10/10 [00:15<00:00,  1.59s/it]\n",
      "0it [00:00, ?it/s]\n",
      "100%|██████████| 10/10 [00:15<00:00,  1.59s/it]\n",
      "100%|██████████| 10/10 [00:15<00:00,  1.58s/it]\n",
      "100%|██████████| 10/10 [00:15<00:00,  1.59s/it]\n",
      "100%|██████████| 10/10 [00:15<00:00,  1.58s/it]\n",
      "100%|██████████| 10/10 [00:15<00:00,  1.57s/it]\n",
      "100%|██████████| 10/10 [00:16<00:00,  1.69s/it]\n",
      "100%|██████████| 10/10 [00:16<00:00,  1.68s/it]\n",
      "100%|██████████| 10/10 [00:16<00:00,  1.69s/it]\n",
      "100%|██████████| 10/10 [00:16<00:00,  1.69s/it]\n",
      "100%|██████████| 10/10 [00:17<00:00,  1.72s/it]\n",
      "0it [00:00, ?it/s]\n",
      "100%|██████████| 10/10 [00:16<00:00,  1.70s/it]\n",
      "100%|██████████| 10/10 [00:17<00:00,  1.71s/it]\n",
      "100%|██████████| 10/10 [00:16<00:00,  1.68s/it]\n",
      "100%|██████████| 10/10 [00:17<00:00,  1.71s/it]\n",
      "100%|██████████| 10/10 [00:16<00:00,  1.68s/it]\n",
      "100%|██████████| 10/10 [00:17<00:00,  1.70s/it]\n",
      "100%|██████████| 10/10 [00:16<00:00,  1.69s/it]\n",
      "100%|██████████| 10/10 [00:16<00:00,  1.67s/it]\n",
      "100%|██████████| 10/10 [00:16<00:00,  1.70s/it]\n",
      "100%|██████████| 10/10 [00:17<00:00,  1.70s/it]\n",
      "0it [00:00, ?it/s]\n",
      "100%|██████████| 10/10 [00:16<00:00,  1.69s/it]\n",
      "100%|██████████| 10/10 [00:16<00:00,  1.68s/it]\n",
      "100%|██████████| 10/10 [00:16<00:00,  1.68s/it]\n",
      "100%|██████████| 10/10 [00:16<00:00,  1.69s/it]\n",
      "100%|██████████| 10/10 [00:16<00:00,  1.68s/it]\n",
      "100%|██████████| 10/10 [00:17<00:00,  1.71s/it]\n",
      "100%|██████████| 10/10 [00:16<00:00,  1.69s/it]\n",
      "100%|██████████| 10/10 [00:16<00:00,  1.70s/it]\n",
      "100%|██████████| 10/10 [00:16<00:00,  1.68s/it]\n",
      "100%|██████████| 10/10 [00:16<00:00,  1.67s/it]\n"
     ]
    },
    {
     "name": "stdout",
     "output_type": "stream",
     "text": [
      "Archivo CSV creado con una fila por ventana.\n"
     ]
    }
   ],
   "source": [
    "#process all the images\n",
    "carpeta = \"../Tarea1/dataset_ceramicos_recortes\"\n",
    "columnas_csv = []\n",
    "filas = []\n",
    "\n",
    "for root, dirs, files in os.walk(carpeta):\n",
    "    for file in tqdm(files):\n",
    "        if file.endswith(\".tif\") and \"Falla\" in file:\n",
    "            ruta = os.path.join(root, file)\n",
    "            img = cv2.imread(ruta, cv2.IMREAD_GRAYSCALE)\n",
    "            lbp = calc_lbp(img)\n",
    "            clase = os.path.basename(os.path.dirname(root))\n",
    "\n",
    "            for size in tam_ventana:\n",
    "                caracteristicas_ventanas = extraer_caracteristicas(lbp, size)\n",
    "                for c in caracteristicas_ventanas:\n",
    "                    fila = {\n",
    "                        \"Nombre_Imagen\": file,\n",
    "                        \"media\": c['media'],\n",
    "                        \"varianza\": c['varianza'],\n",
    "                        \"correlacion\": c['correlacion'],\n",
    "                        \"contraste\": c['contraste'],\n",
    "                        \"homogeneidad\": c['homogeneidad'],\n",
    "                        \"ventana\": size,\n",
    "                        \"Clase\": clase\n",
    "                    }\n",
    "                    filas.append(fila)\n",
    "\n",
    "\n",
    "df = pd.DataFrame(filas)\n",
    "os.makedirs(\"Tarea2\", exist_ok=True)\n",
    "df.to_csv(\"Tarea2/caracteristicas_lbp_por_ventana.csv\", index=False)\n",
    "print(\"Archivo CSV creado con una fila por ventana.\")"
   ]
  },
  {
   "cell_type": "code",
   "execution_count": null,
   "id": "3923aba1",
   "metadata": {},
   "outputs": [],
   "source": []
  },
  {
   "cell_type": "code",
   "execution_count": null,
   "id": "76d1ce40",
   "metadata": {},
   "outputs": [],
   "source": []
  }
 ],
 "metadata": {
  "kernelspec": {
   "display_name": "nn",
   "language": "python",
   "name": "python3"
  },
  "language_info": {
   "codemirror_mode": {
    "name": "ipython",
    "version": 3
   },
   "file_extension": ".py",
   "mimetype": "text/x-python",
   "name": "python",
   "nbconvert_exporter": "python",
   "pygments_lexer": "ipython3",
   "version": "3.10.0"
  }
 },
 "nbformat": 4,
 "nbformat_minor": 5
}
