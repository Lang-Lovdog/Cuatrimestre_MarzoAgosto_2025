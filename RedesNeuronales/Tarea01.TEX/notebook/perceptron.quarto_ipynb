{
  "cells": [
    {
      "cell_type": "markdown",
      "metadata": {},
      "source": [
        "---\n",
        "title: \"Perceptron implementation\"\n",
        "format:\n",
        "   pdf:\n",
        "     title: A perceptron implementation\n",
        "     subtitle: Brief history of neural networks and a perceptron implementation report complement\n",
        "     author: Brandon Marquez Salazar\n",
        "     pdf-engine: pdflatex\n",
        "     documentclass: IEEEtran\n",
        "     number-sections: true\n",
        "#  html: \n",
        "#    code-fold: true\n",
        "#    theme: cyborg\n",
        "jupyter: redesneuronales\n",
        "---\n",
        "\n",
        "# Code implementation\n",
        "\n",
        "\n",
        "We'll use numpy as a very common package used for scientific computation."
      ],
      "id": "f113c2f8"
    },
    {
      "cell_type": "code",
      "metadata": {},
      "source": [
        "import numpy as np"
      ],
      "id": "493b0adf",
      "execution_count": null,
      "outputs": []
    },
    {
      "cell_type": "markdown",
      "metadata": {},
      "source": [
        "Now, in order to implement a perceptron we have to define the three steps needed\n",
        "\n",
        "\n",
        "## Neuron Model\n",
        "\n",
        "First the perceptron output, which is the most important element, it's the neuron model.\n",
        "It will receive a vector of inputs $X_{jk}$ a vector of weights $W_{jk}$ and a reference\n",
        "for the activation function $S(\\cdot)$."
      ],
      "id": "831e740f"
    },
    {
      "cell_type": "code",
      "metadata": {},
      "source": [
        "def perceptronOutput(W,X,bias,ActivationFunction):\n",
        "  WeighedInputs = np.dot(W,X)\n",
        "  Net = WeighedInputs - bias\n",
        "  O = ActivationFunction(Net)\n",
        "  return O"
      ],
      "id": "d2541b04",
      "execution_count": null,
      "outputs": []
    },
    {
      "cell_type": "markdown",
      "metadata": {},
      "source": [
        "## Error equation\n",
        "\n",
        "This function computes the error of the perceptron based on its output compared\n",
        "to the desired output. It receives the perceptron output vector $O_j$,\n",
        "the desired output vector $Y_j$ and the number of patterns $N$."
      ],
      "id": "50df852b"
    },
    {
      "cell_type": "code",
      "metadata": {},
      "source": [
        "def computeError(Y,O,N):\n",
        "  DeltaSum = np.sum(np.abs(Y-O))\n",
        "  Err = DeltaSum/N\n",
        "  return Err"
      ],
      "id": "43a3899f",
      "execution_count": null,
      "outputs": []
    },
    {
      "cell_type": "markdown",
      "metadata": {},
      "source": [
        "## Weights update function\n",
        "\n",
        "This function receives the current weights vector $W_j$, the perceptron and desired\n",
        "output vectors $O_j$ and $Y_j$ and learning rate $r$. Then returns the new weights vector."
      ],
      "id": "089d4bb6"
    },
    {
      "cell_type": "code",
      "metadata": {},
      "source": [
        "def updateWeights(Y,O,W,X,r):\n",
        "  NewWeights = W - (Y-O)*r\n",
        "  return  NewWeights"
      ],
      "id": "8cf055bc",
      "execution_count": null,
      "outputs": []
    }
  ],
  "metadata": {
    "kernelspec": {
      "name": "redesneuronales",
      "language": "python",
      "display_name": "RedesNeuronales",
      "path": "C:\\Users\\Lang Lovdog\\AppData\\Roaming\\jupyter\\kernels\\redesneuronales"
    }
  },
  "nbformat": 4,
  "nbformat_minor": 5
}