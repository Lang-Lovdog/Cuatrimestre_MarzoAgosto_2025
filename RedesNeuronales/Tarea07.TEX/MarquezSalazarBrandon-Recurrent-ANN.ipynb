{
  "cells": [
    {
      "cell_type": "markdown",
      "metadata": {},
      "source": [
        "# Evaluation of Artificial Neural Networks\n",
        "\n",
        "# Introduction\n",
        "\n",
        "Recurrent ANN aree architectures focused in the processing of sequential\n",
        "data such as time series, speech, and natural language processing. This\n",
        "ANN keeps information thanks to its structure.\n",
        "\n",
        "In contrast with MLP, RNN or Recurrent Neural Network are used with\n",
        "sequential data, similar to a modified Markov chain, using past\n",
        "information to predict future values, this approach starts getting the\n",
        "concept of context.\n",
        "\n",
        "# Core Concepts and Methods\n",
        "\n",
        "## Historical Context and Development\n",
        "\n",
        "The concept of recurrent connections in neural networks dates back to\n",
        "1960s. Frank Rosenblatt introduced “close-loop cross-coupled\n",
        "perceptrons” in, which included recurrent connections in a three-layered\n",
        "perceptron network. These connections allowed the network to keep a kind\n",
        "of memory, updating weights based on a Hebbian learning rule\n",
        "@wikipedia2025rnn. Further developments were made by Kaoru Nakano in\n",
        "1971 and ShunIchi Amari in 1972, who explored similar architectures with\n",
        "recurrent connections @wikipedia2025rnn.\n",
        "\n",
        "## Architecture and Working Principles\n",
        "\n",
        "RNNs are characterized by their ability to maintain a hidden state that\n",
        "gets updated as the network processes each element in a sequence. This\n",
        "hidden state acts as some sort of memory, influencing future outputs.\n",
        "The basic structure of an RNN can be visualized as a “rolled” network,\n",
        "where the same set of weights is used across different time steps,\n",
        "creating a loop that allows information to flow back through the network\n",
        "@medium2025rnn.\n",
        "\n",
        "## Applications\n",
        "\n",
        "RNNs have found applications in a wide range of fields, including:\n",
        "\n",
        "-   Natural Language Processing (NLP): RNNs are used for tasks such as\n",
        "    language modeling, machine translation, and sentiment analysis. They\n",
        "    can capture the context and dependencies between words in a\n",
        "    sentence, which is crucial for understanding language @ibm2025rnn.\n",
        "\n",
        "-   Speech Recognition: RNNs are employed to convert spoken language\n",
        "    into text by processing audio signals sequentially and recognizing\n",
        "    patterns in the sound waves @ibm2025rnn.\n",
        "\n",
        "-   Time Series Prediction: In finance and economics, RNNs are used to\n",
        "    predict future values based on historical data, such as stock prices\n",
        "    or economic indicators @networkencyclopedia2025rnn.\n",
        "\n",
        "-   Healthcare: RNNs have been applied to analyze medical time series\n",
        "    data, such as ECG signals or patient vital signs, to detect\n",
        "    anomalies or predict health outcomes @mdpi2025review.\n",
        "\n",
        "-   Music Generation: RNNs can generate musical sequences by learning\n",
        "    patterns in existing music, allowing for the creation of new\n",
        "    compositions that follow similar structures\n",
        "    @networkencyclopedia2025rnn.\n",
        "\n",
        "# Challenges and Advances\n",
        "\n",
        "Despite their effectiveness, RNNs face several challenges, particularly\n",
        "with long-term dependencies. Traditional RNNs can struggle to maintain\n",
        "relevant information over long sequences due to issues like vanishing\n",
        "and exploding gradients during training. To address these issues,\n",
        "variants such as Long Short-Term Memory (LSTM) and Gated Recurrent Units\n",
        "(GRU) have been developed. These architectures include gating mechanisms\n",
        "that allow the network to selectively remember or forget information,\n",
        "improving performance on long sequences @geeksforgeeks2025gru.\n",
        "\n",
        "# RNN Implementation\n",
        "\n",
        "Here, a simple RNN implementation in Python is made using tensorflow."
      ],
      "id": "08c771df-b6fd-48cd-bfbc-b2df83708751"
    },
    {
      "cell_type": "code",
      "execution_count": 1,
      "metadata": {},
      "outputs": [],
      "source": [
        "!pip install tensorflow\n",
        "!pip install seaborn\n",
        "!pip install matplotlib\n",
        "!pip install numpy\n",
        "!pip install pandas\n",
        "!pip install scikit-learn\n",
        "!pip install nltk\n",
        "!pip install plotly"
      ],
      "id": "e990c50d"
    },
    {
      "cell_type": "markdown",
      "metadata": {},
      "source": [
        "Importing Modules ans Libraries"
      ],
      "id": "15336f6d-e12f-4ff8-9196-9f1612a50784"
    },
    {
      "cell_type": "code",
      "execution_count": 2,
      "metadata": {},
      "outputs": [],
      "source": [
        "import warnings\n",
        "from tensorflow.keras.utils import pad_sequences\n",
        "from tensorflow.keras.preprocessing.text import Tokenizer\n",
        "from sklearn.model_selection import train_test_split\n",
        "import tensorflow as tf\n",
        "from tensorflow import keras\n",
        "import pandas as pd\n",
        "import matplotlib.pyplot as plt\n",
        "import seaborn as sns\n",
        "import plotly.express as px\n",
        "import numpy as np\n",
        "\n",
        "import re\n",
        "import nltk\n",
        "nltk.download('all')\n",
        "from nltk.corpus import stopwords\n",
        "from nltk.tokenize import word_tokenize\n",
        "from nltk.stem import WordNetLemmatizer\n",
        "lemm = WordNetLemmatizer()\n",
        "\n",
        "warnings.filterwarnings(\"ignore\")"
      ],
      "id": "c507d673"
    },
    {
      "cell_type": "markdown",
      "metadata": {},
      "source": [
        "Loading the dataset"
      ],
      "id": "78497598-d59a-4b96-9acc-34782f705718"
    },
    {
      "cell_type": "code",
      "execution_count": 3,
      "metadata": {},
      "outputs": [],
      "source": [
        "data = pd.read_csv(\"Clothing-Review.csv\")\n",
        "data.head(7)\n",
        "\n",
        "data = data[data['Class Name'].isnull() == False]\n",
        "plt.subplots(figsize=(12, 5))\n",
        "plt.subplot(1, 2, 1)\n",
        "sns.countplot(data=data, x='Rating',palette=\"deep\")"
      ],
      "id": "5736ec60"
    },
    {
      "cell_type": "markdown",
      "metadata": {},
      "source": [
        "Exploratory Data Analysis"
      ],
      "id": "2153586f-8dac-4d5e-9c89-a7fdfdf3c197"
    },
    {
      "cell_type": "code",
      "execution_count": 4,
      "metadata": {},
      "outputs": [],
      "source": [
        "sns.countplot(data=data, x='Class Name', palette='rainbow')\n",
        "plt.xticks(rotation=90)\n",
        "plt.show()"
      ],
      "id": "c6eb3180"
    },
    {
      "cell_type": "code",
      "execution_count": 5,
      "metadata": {},
      "outputs": [],
      "source": [
        "plt.subplot(1, 2, 2)\n",
        "sns.countplot(data=data, x=\"Recommended IND\", palette=\"deep\")\n",
        "plt.show()\n",
        "fig = px.histogram(data, marginal='box',\n",
        "                   x=\"Age\", title=\"Age Group\",\n",
        "                   color=\"Recommended IND\",\n",
        "                   nbins=65-18,\n",
        "                   color_discrete_sequence=['green', 'red'])\n",
        "fig.update_layout(bargap=0.2)"
      ],
      "id": "0e501ed1"
    },
    {
      "cell_type": "code",
      "execution_count": 6,
      "metadata": {},
      "outputs": [],
      "source": [
        "fig = px.histogram(data,\n",
        "                   x=\"Age\",\n",
        "                   marginal='box',\n",
        "                   title=\"Age Group\",\n",
        "                   color=\"Rating\",\n",
        "                   nbins=65-18,\n",
        "                   color_discrete_sequence\n",
        "                   =['black', 'green', 'blue', 'red', 'yellow'])\n",
        "fig.update_layout(bargap=0.2)"
      ],
      "id": "3be6e3be"
    },
    {
      "cell_type": "markdown",
      "metadata": {},
      "source": [
        "Preparing the data to build the model"
      ],
      "id": "9c22c53b-7ea3-43af-9b3e-13f00e2d8081"
    },
    {
      "cell_type": "code",
      "execution_count": 7,
      "metadata": {},
      "outputs": [],
      "source": [
        "def filter_score(rating):\n",
        "    return int(rating > 3)\n",
        "\n",
        "features = ['Class Name', 'Title', 'Review Text']\n",
        "\n",
        "X = data[features]\n",
        "y = data['Rating']\n",
        "y = y.apply(filter_score)"
      ],
      "id": "affb67d8"
    },
    {
      "cell_type": "code",
      "execution_count": 8,
      "metadata": {},
      "outputs": [],
      "source": [
        "def toLower(data):\n",
        "    if isinstance(data, float):\n",
        "        return '<UNK>'\n",
        "    else:\n",
        "        return data.lower()\n",
        "\n",
        "stop_words = stopwords.words(\"english\")\n",
        "\n",
        "def remove_stopwords(text):\n",
        "    no_stop = []\n",
        "    for word in text.split(' '):\n",
        "        if word not in stop_words:\n",
        "            no_stop.append(word)\n",
        "    return \" \".join(no_stop)\n",
        "\n",
        "def remove_punctuation_func(text):\n",
        "    return re.sub(r'[^a-zA-Z0-9]', ' ', text)\n",
        "\n",
        "X['Title'] = X['Title'].apply(toLower)\n",
        "X['Review Text'] = X['Review Text'].apply(toLower)\n",
        "\n",
        "X['Title'] = X['Title'].apply(remove_stopwords)\n",
        "X['Review Text'] = X['Review Text'].apply(remove_stopwords)\n",
        "\n",
        "X['Title'] = X['Title'].apply(lambda x: lemm.lemmatize(x))\n",
        "X['Review Text'] = X['Review Text'].apply(lambda x: lemm.lemmatize(x))\n",
        "\n",
        "X['Title'] = X['Title'].apply(remove_punctuation_func)\n",
        "X['Review Text'] = X['Review Text'].apply(remove_punctuation_func)\n",
        "\n",
        "X['Text'] = list(X['Title']+X['Review Text']+X['Class Name'])\n",
        "\n",
        "\n",
        "X_train, X_test, y_train, y_test = train_test_split(\n",
        "    X['Text'], y, test_size=0.25, random_state=42)"
      ],
      "id": "ff959103"
    },
    {
      "cell_type": "code",
      "execution_count": 9,
      "metadata": {},
      "outputs": [],
      "source": [
        "tokenizer = Tokenizer(num_words=10000, oov_token='<OOV>')\n",
        "tokenizer.fit_on_texts(X_train)"
      ],
      "id": "b94ef1e7"
    },
    {
      "cell_type": "code",
      "execution_count": 10,
      "metadata": {},
      "outputs": [],
      "source": [
        "train_seq = tokenizer.texts_to_sequences(X_train)\n",
        "test_seq = tokenizer.texts_to_sequences(X_test)\n",
        "\n",
        "train_pad = pad_sequences(train_seq,\n",
        "                          maxlen=40,\n",
        "                          truncating=\"post\",\n",
        "                          padding=\"post\")\n",
        "test_pad = pad_sequences(test_seq,\n",
        "                         maxlen=40,\n",
        "                         truncating=\"post\",\n",
        "                         padding=\"post\")"
      ],
      "id": "b1876c00"
    },
    {
      "cell_type": "markdown",
      "metadata": {},
      "source": [
        "Creating the RNN Model"
      ],
      "id": "9e00d50b-3037-4416-a91c-bb8498c1617b"
    },
    {
      "cell_type": "code",
      "execution_count": 11,
      "metadata": {},
      "outputs": [],
      "source": [
        "from tensorflow import keras\n",
        "\n",
        "model = keras.models.Sequential()\n",
        "model.add(keras.layers.Embedding(input_dim=10000, output_dim=128, input_length=40))\n",
        "model.add(keras.layers.SimpleRNN(64, return_sequences=True))\n",
        "model.add(keras.layers.SimpleRNN(64))\n",
        "model.add(keras.layers.Dense(128, activation=\"relu\"))\n",
        "model.add(keras.layers.Dropout(0.4))\n",
        "model.add(keras.layers.Dense(1, activation=\"sigmoid\"))\n",
        "\n",
        "model.build(input_shape=(None, 40))"
      ],
      "id": "e061aaea"
    },
    {
      "cell_type": "code",
      "execution_count": 12,
      "metadata": {},
      "outputs": [],
      "source": [
        "model.summary()"
      ],
      "id": "3e1e2706"
    },
    {
      "cell_type": "code",
      "execution_count": 13,
      "metadata": {},
      "outputs": [],
      "source": [
        "model.compile(loss=\"binary_crossentropy\",\n",
        "              optimizer=\"adam\",\n",
        "              metrics=[\"accuracy\"])\n",
        "              \n",
        "\n",
        "history = model.fit(train_pad,\n",
        "                    y_train,\n",
        "                    epochs=5)\n",
        "\n",
        "results = model.evaluate(test_pad, y_test)"
      ],
      "id": "91beefca"
    },
    {
      "cell_type": "markdown",
      "metadata": {},
      "source": [
        "# Conclusion\n",
        "\n",
        "RNN are actually usefuill for a majority of applications that nowadays\n",
        "are based on context needed events. Despite it’s advantages, some new\n",
        "insights were needed letting more complex tasks to be done and aiming to\n",
        "achieve better results increasing it’s application areas."
      ],
      "id": "1be84506-cc3b-4dc7-8609-94393f74aeb9"
    }
  ],
  "nbformat": 4,
  "nbformat_minor": 5,
  "metadata": {
    "kernelspec": {
      "name": "redesneuronales",
      "display_name": "redesneuronales",
      "language": "python",
      "path": "/home/lang_lovdog/.local/share/jupyter/kernels/redesneuronales"
    },
    "language_info": {
      "name": "python",
      "codemirror_mode": {
        "name": "ipython",
        "version": "3"
      },
      "file_extension": ".py",
      "mimetype": "text/x-python",
      "nbconvert_exporter": "python",
      "pygments_lexer": "ipython3",
      "version": "3.13.7"
    }
  }
}